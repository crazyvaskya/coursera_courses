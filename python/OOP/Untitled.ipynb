{
 "cells": [
  {
   "cell_type": "code",
   "execution_count": 50,
   "metadata": {},
   "outputs": [],
   "source": [
    "class Hero:\n",
    "    def __init__(self):\n",
    "        self.positive_effects = []\n",
    "        self.negative_effects = []\n",
    "        \n",
    "        self.stats = {\n",
    "            \"HP\": 128,\n",
    "            \"MP\": 42,\n",
    "            \"SP\": 100,\n",
    "            \n",
    "            \"Strength\": 15,\n",
    "            \"Perception\": 4,\n",
    "            \"Endurance\": 8,\n",
    "            \"Charisma\": 2,\n",
    "            \"Intelligence\": 3,\n",
    "            \"Agility\": 8,\n",
    "            \"Luck\": 1\n",
    "        } \n",
    "        \n",
    "    def get_positive_effects(self):\n",
    "        return self.positive_effects.copy()\n",
    "    \n",
    "    def get_negative_effects(self):\n",
    "        return self.negative_effects.copy()\n",
    "    \n",
    "    def get_stats(self):\n",
    "        return self.stats.copy()"
   ]
  },
  {
   "cell_type": "code",
   "execution_count": 38,
   "metadata": {},
   "outputs": [],
   "source": [
    "from abc import ABC, abstractmethod\n",
    "class AbstractEffect(ABC, Hero):\n",
    "    def __init__(self, base):\n",
    "        self.base = base\n",
    "        \n",
    "    @abstractmethod\n",
    "    def get_positive_effects(self):\n",
    "        pass\n",
    "    \n",
    "    @abstractmethod\n",
    "    def get_negative_effects(self):\n",
    "        pass\n",
    "    \n",
    "    @abstractmethod\n",
    "    def get_stats(self):\n",
    "        pass\n",
    "    \n",
    "class AbstractPositive(AbstractEffect):\n",
    "    @abstractmethod\n",
    "    def get_positive_effects(self):\n",
    "        pass\n",
    "    \n",
    "    def get_negative_effects(self):\n",
    "        return self.base.get_negative_effects().copy()\n",
    "    \n",
    "    @abstractmethod\n",
    "    def get_stats(self):\n",
    "        pass\n",
    "    \n",
    "class AbstractNegative(AbstractEffect):\n",
    "    def get_positive_effects(self):\n",
    "        return self.base.get_positive_effects().copy()\n",
    "    \n",
    "    @abstractmethod    \n",
    "    def get_negative_effects(self):\n",
    "        pass\n",
    "    \n",
    "    @abstractmethod\n",
    "    def get_stats(self):\n",
    "        pass"
   ]
  },
  {
   "cell_type": "code",
   "execution_count": 39,
   "metadata": {},
   "outputs": [],
   "source": [
    "class Blessing(AbstractPositive):\n",
    "    def get_positive_effects(self):\n",
    "        positive_effects = self.base.get_positive_effects()\n",
    "        positive_effects.append(\"Blessing\")\n",
    "        return positive_effects.copy()\n",
    "    \n",
    "    def get_stats(self):\n",
    "        stats = self.base.get_stats()\n",
    "        stats[\"Strength\"] += 2\n",
    "        stats[\"Perception\"] += 2\n",
    "        stats[\"Endurance\"] += 2\n",
    "        stats[\"Charisma\"] += 2\n",
    "        stats[\"Intelligence\"] += 2\n",
    "        stats[\"Agility\"] += 2\n",
    "        stats[\"Luck\"] += 2\n",
    "        return stats.copy ()\n",
    "    \n",
    "class Berserk(AbstractPositive):\n",
    "    def get_positive_effects(self):\n",
    "        if (not self.effect_applied):\n",
    "            self.positive_effects = self.base.get_positive_effects()\n",
    "            self.positive_effects.append(\"Berserk\")\n",
    "            self.effect_applied = True\n",
    "        return self.positive_effects.copy()\n",
    "    \n",
    "    def get_stats(self):\n",
    "        if (not self.stats_applied):\n",
    "            self.stats = self.base.get_stats()\n",
    "            self.stats[\"Strength\"] += 7\n",
    "            self.stats[\"Perception\"] -= 3\n",
    "            self.stats[\"Endurance\"] += 7\n",
    "            self.stats[\"Charisma\"] -= 3\n",
    "            self.stats[\"Intelligence\"] -= 3\n",
    "            self.stats[\"Agility\"] += 7\n",
    "            self.stats[\"Luck\"] += 7\n",
    "            self.stats[\"HP\"] += 50\n",
    "            self.stats_applied = True\n",
    "        return self.stats.copy ()"
   ]
  },
  {
   "cell_type": "code",
   "execution_count": 40,
   "metadata": {},
   "outputs": [],
   "source": [
    "class Weakness(AbstractNegative):\n",
    "    def get_negative_effects(self):\n",
    "        if (not self.effect_applied):\n",
    "            self.negative_effects = self.base.get_negative_effects()\n",
    "            self.negative_effects.append(\"Blessing\")\n",
    "            self.effect_applied = True\n",
    "        return self.negative_effects.copy()\n",
    "    \n",
    "    def get_stats(self):\n",
    "        if (not self.stats_applied):\n",
    "            self.stats = self.base.get_stats()\n",
    "            self.stats[\"Strength\"] -= 4\n",
    "            self.stats[\"Endurance\"] -= 4\n",
    "            self.stats[\"Agility\"] -= 4\n",
    "            self.stats_applied = True\n",
    "        return self.stats.copy ()\n",
    "\n",
    "class EvilEye(AbstractNegative):\n",
    "    def get_negative_effects(self):\n",
    "        if (not self.effect_applied):\n",
    "            self.negative_effects = self.base.get_negative_effects()\n",
    "            self.negative_effects.append(\"Blessing\")\n",
    "            self.effect_applied = True\n",
    "        return self.negative_effects.copy()\n",
    "    \n",
    "    def get_stats(self):\n",
    "        if (not self.stats_applied):\n",
    "            self.stats = self.base.get_stats()\n",
    "            self.stats[\"Luck\"] -= 10\n",
    "            self.stats_applied = True\n",
    "        return self.stats.copy ()\n",
    "\n",
    "class Curse(AbstractNegative):\n",
    "    def get_negative_effects(self):\n",
    "        if (not self.effect_applied):\n",
    "            self.negative_effects = self.base.get_negative_effects()\n",
    "            self.negative_effects.append(\"Blessing\")\n",
    "            self.effect_applied = True\n",
    "        return self.negative_effects.copy()\n",
    "    \n",
    "    def get_stats(self):\n",
    "        if (not self.stats_applied):\n",
    "            self.stats = self.base.get_stats()\n",
    "            self.stats[\"Strength\"] -= 2\n",
    "            self.stats[\"Perception\"] -= 2\n",
    "            self.stats[\"Endurance\"] -= 2\n",
    "            self.stats[\"Charisma\"] -= 2\n",
    "            self.stats[\"Intelligence\"] -= 2\n",
    "            self.stats[\"Agility\"] -= 2\n",
    "            self.stats[\"Luck\"] -= 2\n",
    "            self.stats_applied = True\n",
    "        return self.stats.copy ()"
   ]
  },
  {
   "cell_type": "code",
   "execution_count": 64,
   "metadata": {},
   "outputs": [],
   "source": [
    "from abc import ABC, abstractmethod\n",
    "\n",
    "\n",
    "class AbstractEffect(ABC, Hero):\n",
    "    def __init__(self, base):\n",
    "        self.base = base\n",
    "\n",
    "    @abstractmethod\n",
    "    def get_positive_effects(self):\n",
    "        pass\n",
    "\n",
    "    @abstractmethod\n",
    "    def get_negative_effects(self):\n",
    "        pass\n",
    "\n",
    "    @abstractmethod\n",
    "    def get_stats(self):\n",
    "        pass\n",
    "\n",
    "\n",
    "class AbstractPositive(AbstractEffect):\n",
    "    @abstractmethod\n",
    "    def get_positive_effects(self):\n",
    "        pass\n",
    "\n",
    "    def get_negative_effects(self):\n",
    "        return self.base.get_negative_effects().copy()\n",
    "\n",
    "    @abstractmethod\n",
    "    def get_stats(self):\n",
    "        pass\n",
    "\n",
    "\n",
    "class AbstractNegative(AbstractEffect):\n",
    "    def get_positive_effects(self):\n",
    "        return self.base.get_positive_effects().copy()\n",
    "\n",
    "    @abstractmethod\n",
    "    def get_negative_effects(self):\n",
    "        pass\n",
    "\n",
    "    @abstractmethod\n",
    "    def get_stats(self):\n",
    "        pass\n",
    "\n",
    "\n",
    "class Blessing(AbstractPositive):\n",
    "    def get_positive_effects(self):\n",
    "        positive_effects = self.base.get_positive_effects()\n",
    "        positive_effects.append(\"Blessing\")\n",
    "        return positive_effects.copy()\n",
    "\n",
    "    def get_stats(self):\n",
    "        stats = self.base.get_stats()\n",
    "        stats[\"Strength\"] += 2\n",
    "        stats[\"Perception\"] += 2\n",
    "        stats[\"Endurance\"] += 2\n",
    "        stats[\"Charisma\"] += 2\n",
    "        stats[\"Intelligence\"] += 2\n",
    "        stats[\"Agility\"] += 2\n",
    "        stats[\"Luck\"] += 2\n",
    "        return stats.copy()\n",
    "\n",
    "\n",
    "class Berserk(AbstractPositive):\n",
    "    def get_positive_effects(self):\n",
    "        positive_effects = self.base.get_positive_effects()\n",
    "        positive_effects.append(\"Berserk\")\n",
    "        return positive_effects.copy()\n",
    "\n",
    "    def get_stats(self):\n",
    "        stats = self.base.get_stats()\n",
    "        stats[\"Strength\"] += 7\n",
    "        stats[\"Perception\"] -= 3\n",
    "        stats[\"Endurance\"] += 7\n",
    "        stats[\"Charisma\"] -= 3\n",
    "        stats[\"Intelligence\"] -= 3\n",
    "        stats[\"Agility\"] += 7\n",
    "        stats[\"Luck\"] += 7\n",
    "        stats[\"HP\"] += 50\n",
    "        return stats.copy()\n",
    "\n",
    "\n",
    "class Weakness(AbstractNegative):\n",
    "    def get_negative_effects(self):\n",
    "        negative_effects = self.base.get_negative_effects()\n",
    "        negative_effects.append(\"Weakness\")\n",
    "        return negative_effects.copy()\n",
    "\n",
    "    def get_stats(self):\n",
    "        stats = self.base.get_stats()\n",
    "        stats[\"Strength\"] -= 4\n",
    "        stats[\"Endurance\"] -= 4\n",
    "        stats[\"Agility\"] -= 4\n",
    "        return stats.copy()\n",
    "\n",
    "\n",
    "class EvilEye(AbstractNegative):\n",
    "    def get_negative_effects(self):\n",
    "        negative_effects = self.base.get_negative_effects()\n",
    "        negative_effects.append(\"EvilEye\")\n",
    "        effect_applied = True\n",
    "        return negative_effects.copy()\n",
    "\n",
    "    def get_stats(self):\n",
    "        stats = self.base.get_stats()\n",
    "        stats[\"Luck\"] -= 10\n",
    "        return stats.copy()\n",
    "\n",
    "\n",
    "class Curse(AbstractNegative):\n",
    "    def get_negative_effects(self):\n",
    "        negative_effects = self.base.get_negative_effects()\n",
    "        negative_effects.append(\"Curse\")\n",
    "        return negative_effects.copy()\n",
    "\n",
    "    def get_stats(self):\n",
    "        stats = self.base.get_stats()\n",
    "        stats[\"Strength\"] -= 2\n",
    "        stats[\"Perception\"] -= 2\n",
    "        stats[\"Endurance\"] -= 2\n",
    "        stats[\"Charisma\"] -= 2\n",
    "        stats[\"Intelligence\"] -= 2\n",
    "        stats[\"Agility\"] -= 2\n",
    "        stats[\"Luck\"] -= 2\n",
    "        return stats.copy()\n"
   ]
  },
  {
   "cell_type": "code",
   "execution_count": 65,
   "metadata": {},
   "outputs": [],
   "source": [
    "hero = Hero()"
   ]
  },
  {
   "cell_type": "code",
   "execution_count": 66,
   "metadata": {},
   "outputs": [
    {
     "name": "stdout",
     "output_type": "stream",
     "text": [
      "[]\n",
      "[]\n",
      "{'HP': 128, 'MP': 42, 'SP': 100, 'Strength': 15, 'Perception': 4, 'Endurance': 8, 'Charisma': 2, 'Intelligence': 3, 'Agility': 8, 'Luck': 1}\n"
     ]
    }
   ],
   "source": [
    "print(hero.get_positive_effects())\n",
    "print(hero.get_negative_effects())\n",
    "print(hero.get_stats())"
   ]
  },
  {
   "cell_type": "code",
   "execution_count": 54,
   "metadata": {},
   "outputs": [],
   "source": [
    "hero = Blessing(Berserk(Weakness(Blessing(hero))))"
   ]
  },
  {
   "cell_type": "code",
   "execution_count": 55,
   "metadata": {},
   "outputs": [
    {
     "name": "stdout",
     "output_type": "stream",
     "text": [
      "['Blessing', 'Berserk', 'Blessing']\n",
      "['Blessing', 'Weakness']\n",
      "{'HP': 178, 'MP': 42, 'SP': 100, 'Strength': 22, 'Perception': 5, 'Endurance': 15, 'Charisma': 3, 'Intelligence': 4, 'Agility': 15, 'Luck': 12}\n"
     ]
    }
   ],
   "source": [
    "print(hero.get_positive_effects())\n",
    "print(hero.get_negative_effects())\n",
    "print(hero.get_stats())"
   ]
  },
  {
   "cell_type": "code",
   "execution_count": 67,
   "metadata": {},
   "outputs": [
    {
     "name": "stdout",
     "output_type": "stream",
     "text": [
      "['Blessing']\n",
      "[]\n",
      "{'HP': 128, 'MP': 42, 'SP': 100, 'Strength': 17, 'Perception': 6, 'Endurance': 10, 'Charisma': 4, 'Intelligence': 5, 'Agility': 10, 'Luck': 3}\n"
     ]
    }
   ],
   "source": [
    "hero = Blessing(hero)\n",
    "print(hero.get_positive_effects())\n",
    "print(hero.get_negative_effects())\n",
    "print(hero.get_stats())"
   ]
  },
  {
   "cell_type": "code",
   "execution_count": 68,
   "metadata": {},
   "outputs": [
    {
     "name": "stdout",
     "output_type": "stream",
     "text": [
      "['Blessing']\n",
      "['Weakness']\n",
      "{'HP': 128, 'MP': 42, 'SP': 100, 'Strength': 13, 'Perception': 6, 'Endurance': 6, 'Charisma': 4, 'Intelligence': 5, 'Agility': 6, 'Luck': 3}\n"
     ]
    }
   ],
   "source": [
    "hero = Weakness(hero)\n",
    "print(hero.get_positive_effects())\n",
    "print(hero.get_negative_effects())\n",
    "print(hero.get_stats())"
   ]
  },
  {
   "cell_type": "code",
   "execution_count": 69,
   "metadata": {},
   "outputs": [
    {
     "name": "stdout",
     "output_type": "stream",
     "text": [
      "['Blessing', 'Berserk']\n",
      "['Weakness']\n",
      "{'HP': 178, 'MP': 42, 'SP': 100, 'Strength': 20, 'Perception': 3, 'Endurance': 13, 'Charisma': 1, 'Intelligence': 2, 'Agility': 13, 'Luck': 10}\n"
     ]
    }
   ],
   "source": [
    "hero = Berserk(hero)\n",
    "print(hero.get_positive_effects())\n",
    "print(hero.get_negative_effects())\n",
    "print(hero.get_stats())"
   ]
  },
  {
   "cell_type": "code",
   "execution_count": 70,
   "metadata": {},
   "outputs": [
    {
     "name": "stdout",
     "output_type": "stream",
     "text": [
      "['Blessing', 'Berserk']\n",
      "['Weakness', 'Curse']\n",
      "{'HP': 178, 'MP': 42, 'SP': 100, 'Strength': 18, 'Perception': 1, 'Endurance': 11, 'Charisma': -1, 'Intelligence': 0, 'Agility': 11, 'Luck': 8}\n"
     ]
    }
   ],
   "source": [
    "hero = Curse(hero)\n",
    "print(hero.get_positive_effects())\n",
    "print(hero.get_negative_effects())\n",
    "print(hero.get_stats())"
   ]
  },
  {
   "cell_type": "code",
   "execution_count": 71,
   "metadata": {},
   "outputs": [
    {
     "name": "stdout",
     "output_type": "stream",
     "text": [
      "['Blessing', 'Berserk', 'Blessing']\n",
      "['Weakness', 'Curse']\n",
      "{'HP': 178, 'MP': 42, 'SP': 100, 'Strength': 20, 'Perception': 3, 'Endurance': 13, 'Charisma': 1, 'Intelligence': 2, 'Agility': 13, 'Luck': 10}\n"
     ]
    }
   ],
   "source": [
    "hero = Blessing(hero)\n",
    "print(hero.get_positive_effects())\n",
    "print(hero.get_negative_effects())\n",
    "print(hero.get_stats())"
   ]
  },
  {
   "cell_type": "code",
   "execution_count": 72,
   "metadata": {},
   "outputs": [
    {
     "name": "stdout",
     "output_type": "stream",
     "text": [
      "['Blessing', 'Berserk', 'Blessing']\n",
      "['Weakness', 'Curse', 'Weakness']\n",
      "{'HP': 178, 'MP': 42, 'SP': 100, 'Strength': 16, 'Perception': 3, 'Endurance': 9, 'Charisma': 1, 'Intelligence': 2, 'Agility': 9, 'Luck': 10}\n"
     ]
    }
   ],
   "source": [
    "hero = Weakness(hero)\n",
    "print(hero.get_positive_effects())\n",
    "print(hero.get_negative_effects())\n",
    "print(hero.get_stats())"
   ]
  },
  {
   "cell_type": "code",
   "execution_count": null,
   "metadata": {},
   "outputs": [],
   "source": []
  },
  {
   "cell_type": "code",
   "execution_count": null,
   "metadata": {},
   "outputs": [],
   "source": []
  }
 ],
 "metadata": {
  "kernelspec": {
   "display_name": "Python 3",
   "language": "python",
   "name": "python3"
  },
  "language_info": {
   "codemirror_mode": {
    "name": "ipython",
    "version": 3
   },
   "file_extension": ".py",
   "mimetype": "text/x-python",
   "name": "python",
   "nbconvert_exporter": "python",
   "pygments_lexer": "ipython3",
   "version": "3.6.4"
  }
 },
 "nbformat": 4,
 "nbformat_minor": 2
}
