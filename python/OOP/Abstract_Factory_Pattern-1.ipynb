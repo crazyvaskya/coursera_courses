{
 "cells": [
  {
   "cell_type": "markdown",
   "metadata": {},
   "source": [
    "# Паттерн абстрактная фабрика\n",
    "\n",
    "В данном файле будет продемонстрирован ппример реализации паттерна абстрактная фабрика.\n",
    "\n",
    "### Задача\n",
    "\n",
    "Создайте фабрики по производству файлов отчётов в форматах HTML и Markdown.\n",
    "<hr/>\n",
    "Для начала импортируем библиотеку `abc` для работы с абстрактными классами."
   ]
  },
  {
   "cell_type": "code",
   "execution_count": 3,
   "metadata": {},
   "outputs": [],
   "source": [
    "import abc  # для работы с абстрактным классом\n",
    "import sys  # для возможности вывести результаты работы прямо в notebook"
   ]
  },
  {
   "cell_type": "markdown",
   "metadata": {},
   "source": [
    "### Тестовая функция\n",
    "Перед созданием фабрик напишем функцию, для тестирования фабрик: `test`"
   ]
  },
  {
   "cell_type": "code",
   "execution_count": 4,
   "metadata": {},
   "outputs": [],
   "source": [
    "def test():\n",
    "\n",
    "    mdFilename = \"report.md\"\n",
    "    HTMLFilename = \"report.html\"\n",
    "\n",
    "    txtreport = create_report(MDreportFactory())\n",
    "    txtreport.save(mdFilename)\n",
    "    print(\"Сохранено:\", mdFilename)\n",
    "\n",
    "    HTMLreport = create_report(HTMLreportFactory())\n",
    "    HTMLreport.save(HTMLFilename)\n",
    "    print(\"Сохранено:\", HTMLFilename)"
   ]
  },
  {
   "cell_type": "markdown",
   "metadata": {},
   "source": [
    "В функции `test` определяються имена для файлов с результатами работы — `report.md` для отчёта в формате Markdown и `report.html` для отчета в HTML формате.\n",
    "\n",
    "После этого происходи создание отчёта при помощи функции `create_report`, которой передаётся непосредственно фабрика. В первом случае — `MDreportFactory` - фабрика производства Markdown отчётов. Во втором — `HTMLreportFactory` для HTML.\n",
    "\n",
    "Создав отчёт сохраняем его в соотвсетствующий файл.\n",
    "\n",
    "### Создание отчёта\n",
    "\n",
    "Перейдём к функции `create_report` которая и будет создавать отчёт. Параметром данной функции являеться фабрика, которая будет «производить» отчёт и его составные компоненты  "
   ]
  },
  {
   "cell_type": "code",
   "execution_count": 5,
   "metadata": {},
   "outputs": [],
   "source": [
    "def create_report(factory):\n",
    "    # создаём отчёт\n",
    "    report = factory.make_report(\"Report\")\n",
    "    # создаём первую часть отчёта\n",
    "    chapter1 = factory.make_chapter(\"Chapter one\")\n",
    "    # создаём вторую часть отчёта\n",
    "    chapter2 = factory.make_chapter(\"Chapter two\")\n",
    "\n",
    "  # первая часть отчёта\n",
    "    # добавляем текст\n",
    "    chapter1.add(\"chapter 1 text\")\n",
    "    # создаём ссылку\n",
    "    link = factory.make_link(\n",
    "        \"coursera\", \"https://ru.coursera.org\")\n",
    "    # добавляем ссылку\n",
    "    chapter1.add(link)\n",
    "\n",
    "  # вторая часть отчёта\n",
    "    # добавляем текст\n",
    "    chapter2.add(\"Chapter 2 header\\n\\n\")\n",
    "    # создаём картинку\n",
    "    img = factory.make_img(\"image\",\n",
    "                           \"https://blog.coursera.org/wp-content/uploads/2017/07/coursera-fb.png\")\n",
    "    # создаём ссылку из картинки\n",
    "    link = factory.make_link(img, \"https://ru.coursera.org\")\n",
    "    # добавляем ссылку\n",
    "    chapter2.add(link)\n",
    "    # добавляем текст\n",
    "    chapter2.add(\"\\n\\nChapter 2 footer\")\n",
    "\n",
    "  # отчёт\n",
    "    report.add(chapter1)  # добавляем первую часть\n",
    "    report.add(chapter2)  # добавляем вторую часть\n",
    "    return report         # возвращаем отчёт"
   ]
  },
  {
   "cell_type": "markdown",
   "metadata": {},
   "source": [
    "### Абстрактная фабрика\n",
    "\n",
    "Создадим абстрактный класс ReportFactory с методами - `make_report`, `make_chapter`, `make_link`, `make_img`."
   ]
  },
  {
   "cell_type": "code",
   "execution_count": 6,
   "metadata": {},
   "outputs": [],
   "source": [
    "class ReportFactory(metaclass=abc.ABCMeta):\n",
    "\n",
    "    @abc.abstractmethod\n",
    "    def make_report(self, title):\n",
    "        pass\n",
    "\n",
    "    @abc.abstractmethod\n",
    "    def make_chapter(self, caption):\n",
    "        pass\n",
    "\n",
    "    @abc.abstractmethod\n",
    "    def make_link(self, obj, href):\n",
    "        pass\n",
    "\n",
    "    @abc.abstractmethod\n",
    "    def make_img(self, alt_text, src):\n",
    "        pass"
   ]
  },
  {
   "cell_type": "markdown",
   "metadata": {},
   "source": [
    "### Markdown фабрика\n",
    "\n",
    "Перейдём к реализации методов для фабрики, производящей Markdown отчёты."
   ]
  },
  {
   "cell_type": "code",
   "execution_count": 7,
   "metadata": {},
   "outputs": [],
   "source": [
    "class MDreportFactory(ReportFactory):\n",
    "\n",
    "    def make_report(self, title):\n",
    "        return MD_Report(title)\n",
    "\n",
    "    def make_chapter(self, caption):\n",
    "        return MD_Chapter(caption)\n",
    "\n",
    "    def make_link(self, obj, href):\n",
    "        return MD_Link(obj, href)\n",
    "\n",
    "    def make_img(self, alt_text, src):\n",
    "        return MD_Img(alt_text, src)\n",
    "\n",
    "# Отчёт\n",
    "\n",
    "\n",
    "class MD_Report:\n",
    "\n",
    "    # Создание отчёта\n",
    "    def __init__(self, title):\n",
    "        self.parts = []  # Создаём список всех частей отчёта\n",
    "        # и сразу добавляем в список название\n",
    "        self.parts.append(f\"# {title}\\n\\n\")\n",
    "\n",
    "    # Добавление части\n",
    "    def add(self, part):\n",
    "        self.parts.append(part)  # Просто добавляем в список\n",
    "\n",
    "    # Функция сохранения отчёта\n",
    "    def save(self, filenameOrFile):\n",
    "        # Определяем, что было передано: имя файла (file = None) или файловая переменная (file = filenameOrFile).\n",
    "        file = None if isinstance(filenameOrFile, str) else filenameOrFile\n",
    "\n",
    "        # Пытаемся произвести сохранения отчёта\n",
    "        try:\n",
    "            if file is None:\n",
    "                # открываем файл для записи\n",
    "                file = open(filenameOrFile, \"w\", encoding=\"utf-8\")\n",
    "\n",
    "            # Печатаем в file все части, преобразованные к строке\n",
    "            print('\\n'.join(map(str, self.parts)), file=file)\n",
    "\n",
    "        # Закрываем файл, если мы его открывали\n",
    "        finally:\n",
    "            if isinstance(filenameOrFile, str) and file is not None:\n",
    "                file.close()\n",
    "\n",
    "# Часть\n",
    "\n",
    "\n",
    "class MD_Chapter:\n",
    "\n",
    "    # Создание части\n",
    "    def __init__(self, caption):\n",
    "        self.caption = caption  # Сохраняем заглавие\n",
    "        self.objects = []      # Создаём список содержимого данной части отчёта\n",
    "\n",
    "    # Добавление содержимого в отчёт\n",
    "    def add(self, obj):\n",
    "        self.objects.append(obj)  # Просто добавляем в список\n",
    "\n",
    "    # Приобразование к строке: Отделяем заглавие, после чего присоединяем всё содержимое, преобразованное к строке.\n",
    "    def __str__(self):\n",
    "        return f'## {self.caption}\\n\\n' + ''.join(map(str, self.objects))\n",
    "\n",
    "# Ссылка\n",
    "\n",
    "\n",
    "class MD_Link:\n",
    "    # Создание ссылки - сохранение объекта и адреса\n",
    "    def __init__(self, obj, href):\n",
    "        self.obj = obj\n",
    "        self.href = href\n",
    "    # Преобразование к строке - вывод ссылки в Markdown виде:\n",
    "\n",
    "    def __str__(self):\n",
    "        return f'[{self.obj}]({self.href})'\n",
    "\n",
    "# Изображение\n",
    "\n",
    "\n",
    "class MD_Img:\n",
    "    # Создание изображения - сохранение его описания и расположения\n",
    "    def __init__(self, alt_text, src):\n",
    "        self.alt_text = alt_text\n",
    "        self.src = src\n",
    "    # Преобразование к строке - вывод ссылки в Markdown виде:\n",
    "\n",
    "    def __str__(self):\n",
    "        return f'![{self.alt_text}]({self.src})'"
   ]
  },
  {
   "cell_type": "markdown",
   "metadata": {},
   "source": [
    "### HTML фабрика\n",
    "\n",
    "Перейдём к реализации подклассов `Report`, `Chapter`, `Link` и `Img`. Для фабрики, производящей HTML отчёты."
   ]
  },
  {
   "cell_type": "code",
   "execution_count": 8,
   "metadata": {},
   "outputs": [],
   "source": [
    "class HTMLreportFactory(ReportFactory):\n",
    "    def make_report(self, title):\n",
    "        return HTML_Report(title)\n",
    "\n",
    "    def make_chapter(self, caption):\n",
    "        return HTML_Chapter(caption)\n",
    "\n",
    "    def make_link(self, obj, href):\n",
    "        return HTML_Link(obj, href)\n",
    "\n",
    "    def make_img(self, alt_text, src):\n",
    "        return HTML_Img(alt_text, src)\n",
    "\n",
    "# Отчёт\n",
    "\n",
    "\n",
    "class HTML_Report:\n",
    "\n",
    "    # Создание отчёта\n",
    "    def __init__(self, title):\n",
    "        self.title = title\n",
    "        # Создаём список всех частей отчёта и добавляем в него шапку:\n",
    "        self.parts = []\n",
    "        self.parts.append(\"<html>\")  # Открывающий тег\n",
    "        self.parts.append(\"<head>\")  # Раздел заголовков\n",
    "        self.parts.append(\"<title>\" + title + \"</title>\")  # Название\n",
    "        self.parts.append(\"<meta charset=\\\"utf-8\\\">\")\n",
    "        self.parts.append(\"</head>\")\n",
    "        self.parts.append(\"<body>\")  # Начало содержимого\n",
    "\n",
    "    # Добавление части\n",
    "    def add(self, part):\n",
    "        self.parts.append(part)  # Просто добавляем в список\n",
    "\n",
    "    # Функция сохранения отчёта\n",
    "    def save(self, filenameOrFile):\n",
    "        self.parts.append(\"</body></html>\")  # Добавляем закрывающие тэги\n",
    "        # Определяем, что было передано:\n",
    "        # имя файла (file = None) или\n",
    "        # файловая переменная (file = filenameOrFile).\n",
    "        file = None if isinstance(filenameOrFile, str) else filenameOrFile\n",
    "\n",
    "        # Пытаемся произвести сохранения отчёта\n",
    "        try:\n",
    "            if file is None:\n",
    "                # открываем файл для записи\n",
    "                file = open(filenameOrFile, \"w\", encoding=\"utf-8\")\n",
    "\n",
    "            # Печатаем в file все части, преобразованные к строке\n",
    "            print(''.join(map(str, self.parts)), file=file)\n",
    "\n",
    "        # Закрываем файл, если мы его открывали\n",
    "        finally:\n",
    "            if isinstance(filenameOrFile, str) and file is not None:\n",
    "                file.close()\n",
    "\n",
    "# Часть\n",
    "\n",
    "\n",
    "class HTML_Chapter:\n",
    "\n",
    "    # Создание части\n",
    "    def __init__(self, caption):\n",
    "        self.caption = caption  # Сохраняем заглавие\n",
    "        self.objects = []      # Создаём список содержимого данной части отчёта\n",
    "\n",
    "    # Добавление содержимого в отчёт\n",
    "    def add(self, obj):\n",
    "        self.objects.append(obj)  # Просто добавляем в список\n",
    "\n",
    "    # Приобразование к строке: обрамляем заглавие тэгами, после чего\n",
    "    # присоединяем всё содержимое, преобразованное к строке.\n",
    "    def __str__(self):\n",
    "        ch = f'<h1>{self.caption}</h1>'\n",
    "        return ch + ''.join(map(str, self.objects))\n",
    "\n",
    "# Ссылка\n",
    "\n",
    "\n",
    "class HTML_Link:\n",
    "    # Создание ссылки - сохранение объекта и адреса\n",
    "    def __init__(self, obj, href):\n",
    "        self.obj = obj\n",
    "        self.href = href\n",
    "    # Преобразование к строке - вывод ссылки в HTML виде:\n",
    "\n",
    "    def __str__(self):\n",
    "        return f'<a href = \"{self.href}\">{self.obj}</a>'\n",
    "\n",
    "# Изображение\n",
    "\n",
    "\n",
    "class HTML_Img:\n",
    "    # Создание изображения - сохранение его описания и расположения\n",
    "    def __init__(self, alt_text, src):\n",
    "        self.alt_text = alt_text\n",
    "        self.src = src\n",
    "    # Преобразование к строке - вывод ссылки в виде HTML виде:\n",
    "\n",
    "    def __str__(self):\n",
    "        return f'<img alt = \"{self.alt_text}\", src = \"{self.src}\"/>'"
   ]
  },
  {
   "cell_type": "markdown",
   "metadata": {},
   "source": [
    "### Проверка работы"
   ]
  },
  {
   "cell_type": "code",
   "execution_count": 9,
   "metadata": {},
   "outputs": [
    {
     "name": "stdout",
     "output_type": "stream",
     "text": [
      "Сохранено: report.md\n",
      "Сохранено: report.html\n"
     ]
    },
    {
     "data": {
      "text/markdown": [
       "# <span style=\"color:red\">report.md</span>"
      ],
      "text/plain": [
       "<IPython.core.display.Markdown object>"
      ]
     },
     "metadata": {},
     "output_type": "display_data"
    },
    {
     "data": {
      "text/markdown": [
       "# Report\n",
       "\n",
       "\n",
       "## Chapter one\n",
       "\n",
       "chapter 1 text[coursera](https://ru.coursera.org)\n",
       "## Chapter two\n",
       "\n",
       "Chapter 2 header\n",
       "\n",
       "[![image](https://blog.coursera.org/wp-content/uploads/2017/07/coursera-fb.png)](https://ru.coursera.org)\n",
       "\n",
       "Chapter 2 footer\n"
      ],
      "text/plain": [
       "<IPython.core.display.Markdown object>"
      ]
     },
     "metadata": {},
     "output_type": "display_data"
    },
    {
     "data": {
      "text/markdown": [
       "# <span style=\"color:red\">report.html</span>"
      ],
      "text/plain": [
       "<IPython.core.display.Markdown object>"
      ]
     },
     "metadata": {},
     "output_type": "display_data"
    },
    {
     "data": {
      "text/html": [
       "<html><head><title>Report</title><meta charset=\"utf-8\"></head><body><h1>Chapter one</h1>chapter 1 text<a href = \"https://ru.coursera.org\">coursera</a><h1>Chapter two</h1>Chapter 2 header\n",
       "\n",
       "<a href = \"https://ru.coursera.org\"><img alt = \"image\", src = \"https://blog.coursera.org/wp-content/uploads/2017/07/coursera-fb.png\"/></a>\n",
       "\n",
       "Chapter 2 footer</body></html>\n"
      ],
      "text/plain": [
       "<IPython.core.display.HTML object>"
      ]
     },
     "metadata": {},
     "output_type": "display_data"
    }
   ],
   "source": [
    "from IPython.display import display, Markdown, HTML\n",
    "test()\n",
    "display(Markdown('# <span style=\"color:red\">report.md</span>'))\n",
    "display(Markdown(filename=\"report.md\"))\n",
    "display(Markdown('# <span style=\"color:red\">report.html</span>'))\n",
    "display(HTML(filename=\"report.html\"))"
   ]
  },
  {
   "cell_type": "code",
   "execution_count": null,
   "metadata": {},
   "outputs": [],
   "source": []
  }
 ],
 "metadata": {
  "kernelspec": {
   "display_name": "Python 3",
   "language": "python",
   "name": "python3"
  },
  "language_info": {
   "codemirror_mode": {
    "name": "ipython",
    "version": 3
   },
   "file_extension": ".py",
   "mimetype": "text/x-python",
   "name": "python",
   "nbconvert_exporter": "python",
   "pygments_lexer": "ipython3",
   "version": "3.6.4"
  }
 },
 "nbformat": 4,
 "nbformat_minor": 2
}
