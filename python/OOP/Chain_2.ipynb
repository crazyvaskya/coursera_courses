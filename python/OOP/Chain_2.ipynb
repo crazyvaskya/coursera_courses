{
 "cells": [
  {
   "cell_type": "markdown",
   "metadata": {},
   "source": [
    "# Паттерн цепочка обязанностей\n",
    "\n",
    "### Создаём класс машин\n",
    "\n",
    "Сначала определим класс, который будет обрабатывать цепочкой обязанностей: "
   ]
  },
  {
   "cell_type": "code",
   "execution_count": null,
   "metadata": {},
   "outputs": [],
   "source": [
    "class Car:\n",
    "    def __init__(self):\n",
    "        self.name = \"CAR\"  # Название\n",
    "        self.km = 11100    # Пробег\n",
    "        self.fuel = 5      # Количество бензина, %\n",
    "        self.oil = 5       # Количество масла, %"
   ]
  },
  {
   "cell_type": "markdown",
   "metadata": {},
   "source": [
    "### События\n",
    "\n",
    "Создаём список событий"
   ]
  },
  {
   "cell_type": "code",
   "execution_count": 2,
   "metadata": {},
   "outputs": [],
   "source": [
    "E_FUEL, E_KM, E_OIL = \"E_FUEL\", \"E_KM\", \"E_OIL\""
   ]
  },
  {
   "cell_type": "markdown",
   "metadata": {},
   "source": [
    "Создаём класс событий, который будет хранить всю ииформацию о событии (в данном случае только тип)"
   ]
  },
  {
   "cell_type": "code",
   "execution_count": 3,
   "metadata": {},
   "outputs": [],
   "source": [
    "class Event:\n",
    "    def __init__(self, kind):\n",
    "        self.kind = kind"
   ]
  },
  {
   "cell_type": "markdown",
   "metadata": {},
   "source": [
    "### Обработчики событий\n",
    "\n",
    "Пустой обработчик"
   ]
  },
  {
   "cell_type": "code",
   "execution_count": 4,
   "metadata": {},
   "outputs": [],
   "source": [
    "class NullHandler:\n",
    "    def __init__(self, successor=None):\n",
    "        self.__successor = successor\n",
    "\n",
    "    def handle(self, car, event):\n",
    "        if self.__successor is not None:\n",
    "            self.__successor.handle(car, event)"
   ]
  },
  {
   "cell_type": "markdown",
   "metadata": {},
   "source": [
    "Debug обработчик - выводит информацию о принятом событии и передаёт дальше по цепочке"
   ]
  },
  {
   "cell_type": "code",
   "execution_count": null,
   "metadata": {},
   "outputs": [],
   "source": [
    "class DebugHandler(NullHandler):\n",
    "\n",
    "    def handle(self, car, event):\n",
    "        print(\"*START_EVENT*: {}\".format(event.kind))\n",
    "        super().handle(car, event)"
   ]
  },
  {
   "cell_type": "markdown",
   "metadata": {},
   "source": [
    "Если запрашиваеться событие `E_FUEL`, проводиться проверка количества бензина и, при необходимости, заливаеться полный бак"
   ]
  },
  {
   "cell_type": "code",
   "execution_count": 6,
   "metadata": {},
   "outputs": [],
   "source": [
    "class FuelHandler(NullHandler):\n",
    "    def handle(self, car, event):\n",
    "        if event.kind == E_FUEL:\n",
    "            if car.fuel < 10:\n",
    "                print(\"Added fuel\")\n",
    "                car.fuel = 100\n",
    "        else:\n",
    "            super().handle(car, event)"
   ]
  },
  {
   "cell_type": "markdown",
   "metadata": {},
   "source": [
    "Если запрашиваеться событие `E_KM`, проводиться проверка километража и, при необходимости, обнуляеться"
   ]
  },
  {
   "cell_type": "code",
   "execution_count": 7,
   "metadata": {},
   "outputs": [],
   "source": [
    "class KmHandler(NullHandler):\n",
    "    def handle(self, car, event):\n",
    "        if event.kind == E_KM:\n",
    "            if car.km > 10000:\n",
    "                print(\"Made a car test.\")\n",
    "                car.km = 0\n",
    "        else:\n",
    "            super().handle(car, event)"
   ]
  },
  {
   "cell_type": "markdown",
   "metadata": {},
   "source": [
    "Если запрашиваеться событие `E_OIL`, проводиться проверка количества масла и, при необходимости, заливаеться"
   ]
  },
  {
   "cell_type": "code",
   "execution_count": 8,
   "metadata": {},
   "outputs": [],
   "source": [
    "class OilHandler(NullHandler):\n",
    "    def handle(self, car, event):\n",
    "        if event.kind == E_OIL:\n",
    "            if car.oil < 10:\n",
    "                print(\"Added oil\")\n",
    "                car.oil = 100\n",
    "        else:\n",
    "            super().handle(car, event)"
   ]
  },
  {
   "cell_type": "markdown",
   "metadata": {},
   "source": [
    "### Автосервис\n",
    "\n",
    "При создании нового автосервиса, создаём две цепочки:\n",
    "1. простая, обрабатывающая по очереди:\n",
    "  * не надо ли проверить бензин;\n",
    "  * не надо ли проверить масло;\n",
    "  * не надо ли проверить километраж.\n",
    "2. простая цепочка, дополненная выводом информации о запросе."
   ]
  },
  {
   "cell_type": "code",
   "execution_count": 9,
   "metadata": {},
   "outputs": [],
   "source": [
    "class CarService:\n",
    "    def __init__(self):\n",
    "        self.handlers = FuelHandler(OilHandler(KmHandler(NullHandler())))\n",
    "        self.handlers_D = DebugHandler(self.handlers)\n",
    "        self.events = []\n",
    "\n",
    "    def add_event(self, event):\n",
    "        self.events.append(event)\n",
    "\n",
    "    def handle_car(self, car):\n",
    "        for event in self.events:\n",
    "            self.handlers.handle(car, event)\n",
    "\n",
    "    def handle_car_D(self, car):\n",
    "        for event in self.events:\n",
    "            self.handlers_D.handle(car, event)"
   ]
  },
  {
   "cell_type": "markdown",
   "metadata": {},
   "source": [
    "### Проверка"
   ]
  },
  {
   "cell_type": "code",
   "execution_count": 10,
   "metadata": {},
   "outputs": [
    {
     "name": "stdout",
     "output_type": "stream",
     "text": [
      "=== NORMAL ===\n",
      "Added fuel\n",
      "Made a car test.\n",
      "Added oil\n",
      "--------------\n",
      "Added fuel\n",
      "--------------\n",
      "Added oil\n",
      "--------------\n",
      "Made a car test.\n",
      "=== DEBUG ===\n",
      "*START_EVENT*: E_FUEL\n",
      "Added fuel\n",
      "*START_EVENT*: E_KM\n",
      "Made a car test.\n",
      "*START_EVENT*: E_OIL\n",
      "Added oil\n",
      "--------------\n",
      "*START_EVENT*: E_FUEL\n",
      "Added fuel\n",
      "*START_EVENT*: E_KM\n",
      "*START_EVENT*: E_OIL\n",
      "--------------\n",
      "*START_EVENT*: E_FUEL\n",
      "*START_EVENT*: E_KM\n",
      "*START_EVENT*: E_OIL\n",
      "Added oil\n",
      "--------------\n",
      "*START_EVENT*: E_FUEL\n",
      "*START_EVENT*: E_KM\n",
      "Made a car test.\n",
      "*START_EVENT*: E_OIL\n"
     ]
    }
   ],
   "source": [
    "def test():\n",
    "  # определяем задания\n",
    "    events = [Event(E_FUEL), Event(E_KM), Event(E_OIL)]\n",
    "\n",
    "  # создаём автосервис\n",
    "    service = CarService()\n",
    "\n",
    "  # Добавляем задания автосервису\n",
    "    for event in events:\n",
    "        service.add_event(event)\n",
    "\n",
    "    print(\"=== NORMAL ===\")\n",
    "    # Выполняем все задания\n",
    "    car = Car()\n",
    "    service.handle_car(car)\n",
    "    print(\"--------------\")\n",
    "    car.fuel = 5\n",
    "    service.handle_car(car)\n",
    "    print(\"--------------\")\n",
    "    car.oil = 5\n",
    "    service.handle_car(car)\n",
    "    print(\"--------------\")\n",
    "    car.km = 20000\n",
    "    service.handle_car(car)\n",
    "\n",
    "    print(\"=== DEBUG ===\")\n",
    "\n",
    "    # Выполняем все задания с выводом запросов\n",
    "    car = Car()\n",
    "    service.handle_car_D(car)\n",
    "    print(\"--------------\")\n",
    "    car.fuel = 5\n",
    "    service.handle_car_D(car)\n",
    "    print(\"--------------\")\n",
    "    car.oil = 5\n",
    "    service.handle_car_D(car)\n",
    "    print(\"--------------\")\n",
    "    car.km = 20000\n",
    "    service.handle_car_D(car)\n",
    "\n",
    "\n",
    "test()"
   ]
  },
  {
   "cell_type": "markdown",
   "metadata": {},
   "source": [
    "### Дополнение\n",
    "\n",
    "Естественно, обработчики событий не обязаны быть процедурами: они могут возвращать како-нибудь результат. Такой подход очень хорошо использовать для вычленения объекта из очереди. Такую цепочку хорошо использовать в следующей задаче:\n",
    "\n",
    ">**Дана база работников фирмы. Необходимо сделать автоматическую систему распределения заданий по рабочим.**\n",
    "\n",
    "> В таком случае проще всего устроить цепочку рабочих, в которую передаётся параметры задачи. Результатом работы цепочки будет работник, с соответствующей компетенцией и достаточно малой загруженностью или же передаётся на рассмотрение следующему работнику."
   ]
  }
 ],
 "metadata": {
  "kernelspec": {
   "display_name": "Python 3",
   "language": "python",
   "name": "python3"
  },
  "language_info": {
   "codemirror_mode": {
    "name": "ipython",
    "version": 3
   },
   "file_extension": ".py",
   "mimetype": "text/x-python",
   "name": "python",
   "nbconvert_exporter": "python",
   "pygments_lexer": "ipython3",
   "version": "3.6.4"
  }
 },
 "nbformat": 4,
 "nbformat_minor": 2
}
