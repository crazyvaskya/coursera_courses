{
 "cells": [
  {
   "cell_type": "markdown",
   "metadata": {},
   "source": [
    "# Паттерн цепочка обязанностей\n",
    "\n",
    "### 1. Создаём класс машин\n",
    "\n",
    "Сначала определим класс, который будем обрабатывать цепочкой обязанностей: "
   ]
  },
  {
   "cell_type": "code",
   "execution_count": 1,
   "metadata": {
    "collapsed": true
   },
   "outputs": [],
   "source": [
    "class Car:\n",
    "    def __init__(self):\n",
    "        self.name = \"CAR\"  # Название\n",
    "        self.km = 11100    # Пробег\n",
    "        self.fuel = 5      # Количество бензина, %\n",
    "        self.oil = 5       # Количество масла, %"
   ]
  },
  {
   "cell_type": "markdown",
   "metadata": {},
   "source": [
    "### Создаём обработчики событий\n",
    "\n",
    "Теперь напишем функции, каждая из которых делает только одну операцию с объектом класса Car:"
   ]
  },
  {
   "cell_type": "code",
   "execution_count": null,
   "metadata": {
    "collapsed": true
   },
   "outputs": [],
   "source": [
    "# Заправляем машину, если бензина меньше 10\n",
    "def handle_fuel(car):\n",
    "    if car.fuel < 10:\n",
    "        print(\"Added fuel.\")\n",
    "        car.fuel = 100\n",
    "\n",
    "# Сбросить пробег на 0, если он больше 10000\n",
    "def handle_km(car):\n",
    "    if car.km > 10000:\n",
    "        print(\"Made a car test.\")\n",
    "        car.km = 0\n",
    "\n",
    "# Залить масло, если его меньше 10\n",
    "def handle_oil(car):\n",
    "    if car.oil < 10:\n",
    "        print(\"Added oil.\")\n",
    "        car.oil = 100"
   ]
  },
  {
   "cell_type": "markdown",
   "metadata": {},
   "source": [
    "### Класс автосервиса\n",
    "\n",
    "Далее создадим класс, который умеет работать с цепочкой обязанностей:"
   ]
  },
  {
   "cell_type": "code",
   "execution_count": 3,
   "metadata": {
    "collapsed": true
   },
   "outputs": [],
   "source": [
    "# Класс для Автосервиса\n",
    "class CarService:\n",
    "    def __init__(self):\n",
    "        self.handlers = []  # цеопчка обработчиков\n",
    "\n",
    "    def add_handler(self, handler):\n",
    "        self.handlers.append(handler)  # добавляем обработчик\n",
    "\n",
    "    def handle_car(self, car):\n",
    "        for handler in self.handlers:   # запускаем все обработчики по очереди\n",
    "            handler(car)"
   ]
  },
  {
   "cell_type": "markdown",
   "metadata": {},
   "source": [
    "### Проверяем работу\n",
    "\n",
    "Пример использования цепочки:"
   ]
  },
  {
   "cell_type": "code",
   "execution_count": 4,
   "metadata": {
    "collapsed": true
   },
   "outputs": [],
   "source": [
    "def test():\n",
    "    # определяем список всех обработчиков\n",
    "    handlers = [handle_fuel, handle_km, handle_oil]\n",
    "\n",
    "    # создаём автосервис\n",
    "    service = Car_service()\n",
    "\n",
    "    # Добавляем задания автосервису\n",
    "    for handle in handlers:\n",
    "        service.add_handler(handle)\n",
    "\n",
    "    # Выполняем все задания\n",
    "    car = Car()\n",
    "    service.handle_car(car)\n",
    "    print(\"-----\")\n",
    "    car.fuel = 5\n",
    "    service.handle_car(car)\n",
    "    print(\"-----\")\n",
    "    car.oil = 5\n",
    "    service.handle_car(car)\n",
    "    print(\"-----\")\n",
    "    car.km = 20000\n",
    "    service.handle_car(car)"
   ]
  },
  {
   "cell_type": "markdown",
   "metadata": {},
   "source": [
    "Запускаем функцию"
   ]
  },
  {
   "cell_type": "code",
   "execution_count": 5,
   "metadata": {
    "collapsed": false
   },
   "outputs": [
    {
     "name": "stdout",
     "output_type": "stream",
     "text": [
      "Added fuel.\n",
      "Made a car test.\n",
      "Added oil.\n",
      "-----\n",
      "Added fuel.\n",
      "-----\n",
      "Added oil.\n",
      "-----\n",
      "Made a car test.\n"
     ]
    }
   ],
   "source": [
    "test()"
   ]
  }
 ],
 "metadata": {
  "kernelspec": {
   "display_name": "Python 3",
   "language": "python",
   "name": "python3"
  },
  "language_info": {
   "codemirror_mode": {
    "name": "ipython",
    "version": 3
   },
   "file_extension": ".py",
   "mimetype": "text/x-python",
   "name": "python",
   "nbconvert_exporter": "python",
   "pygments_lexer": "ipython3",
   "version": "3.5.3"
  }
 },
 "nbformat": 4,
 "nbformat_minor": 2
}
